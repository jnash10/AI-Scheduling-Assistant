{
 "cells": [
  {
   "cell_type": "code",
   "execution_count": 562,
   "id": "6e245323-9f9f-4720-bab7-c99383592d32",
   "metadata": {},
   "outputs": [],
   "source": [
    "from flask import Flask, request, jsonify\n",
    "from threading import Thread\n",
    "import json"
   ]
  },
  {
   "cell_type": "code",
   "execution_count": 563,
   "id": "9a6bf88c-6b2b-46b8-87e9-47b496692557",
   "metadata": {},
   "outputs": [],
   "source": [
    "app = Flask(__name__)\n",
    "received_data = []"
   ]
  },
  {
   "cell_type": "code",
   "execution_count": 564,
   "id": "258cbc0b-107a-4639-ab5f-a21731e194c3",
   "metadata": {},
   "outputs": [],
   "source": [
    "def your_meeting_assistant(data): \n",
    "    # Your Agentic AI Calls \n",
    "    data[\"EventStart\"] = \"\"\n",
    "    data[\"EventEnd\"] = \"\"\n",
    "    data[\"Duration_mins\"] = \"\"\n",
    "    return data"
   ]
  },
  {
   "cell_type": "code",
   "execution_count": 565,
   "id": "f8a4f048-22da-443c-a2f0-219a723a8dad",
   "metadata": {},
   "outputs": [],
   "source": [
    "@app.route('/receive', methods=['POST'])\n",
    "def receive():\n",
    "    data = request.get_json()\n",
    "    print(f\"\\n Received: {json.dumps(data, indent=2)}\")\n",
    "    new_data = your_meeting_assistant(data)  # Your AI Meeting Assistant Function Call\n",
    "    received_data.append(data)\n",
    "    print(f\"\\n\\n\\n Sending:\\n {json.dumps(new_data, indent=2)}\")\n",
    "    return jsonify(new_data)\n",
    "\n",
    "def run_flask():\n",
    "    app.run(host='0.0.0.0', port=5000)"
   ]
  },
  {
   "cell_type": "code",
   "execution_count": null,
   "id": "9a603634",
   "metadata": {},
   "outputs": [
    {
     "name": "stdout",
     "output_type": "stream",
     "text": [
      " * Serving Flask app '__main__'\n",
      " * Debug mode: off\n"
     ]
    },
    {
     "name": "stderr",
     "output_type": "stream",
     "text": [
      "WARNING: This is a development server. Do not use it in a production deployment. Use a production WSGI server instead.\n",
      " * Running on all addresses (0.0.0.0)\n",
      " * Running on http://127.0.0.1:5000\n",
      " * Running on http://129.212.190.147:5000\n",
      "Press CTRL+C to quit\n",
      "14.139.128.11 - - [19/Jul/2025 15:51:55] \"GET / HTTP/1.1\" 404 -\n",
      "14.139.128.11 - - [19/Jul/2025 15:51:55] \"GET /favicon.ico HTTP/1.1\" 404 -\n",
      "80.82.70.133 - - [19/Jul/2025 16:01:47] code 400, message Bad request version (\"¯nãY»bhlÿ(=':©\\x82ÙoÈ¢×\\x93\\x98´ï\\x80å¹\\x90\\x00(À\")\n",
      "80.82.70.133 - - [19/Jul/2025 16:01:47] \"\\x16\\x03\\x02\\x01o\\x01\\x00\\x01k\\x03\\x02RHÅ\\x1a#÷:Nßâ´\\x82/ÿ\\x09T\\x9f§Äy°hÆ\\x13\\x8c¤\\x1c=\"á\\x1a\\x98 \\x84´,\\x85¯nãY»bhlÿ(=':©\\x82ÙoÈ¢×\\x93\\x98´ï\\x80å¹\\x90\\x00(À\" 400 -\n",
      "94.102.49.155 - - [19/Jul/2025 16:02:08] code 400, message Bad request syntax ('\\x16\\x03\\x01\\x05¨\\x01\\x00\\x05¤\\x03\\x03?e>Î8_\\x88wÀ\\x1075')\n",
      "94.102.49.155 - - [19/Jul/2025 16:02:08] \"\\x16\\x03\\x01\\x05¨\\x01\\x00\\x05¤\\x03\\x03?e>Î8_\\x88wÀ\\x1075\" 400 -\n",
      "94.102.49.155 - - [19/Jul/2025 16:02:08] \"GET /v2/_catalog HTTP/1.1\" 404 -\n",
      "94.102.49.155 - - [19/Jul/2025 16:02:11] code 400, message Bad request version ('À\\x13À')\n",
      "94.102.49.155 - - [19/Jul/2025 16:02:11] \"\\x16\\x03\\x01\\x05¨\\x01\\x00\\x05¤\\x03\\x03n\\x1fLé'ÀÈÑõ.ÈïØÄ%Ry\\x84b\\x04 \\x8bêa^\\x9c\\x90\"^l¦q \\x85³ö\\x9eÛ\\x02Ý0cñh5\\x11Ó\\x86Î\\x18Åï\\x09x\\x8d\\x99eÅ\\x06 i£9VÊ\\x00\\x1aÀ+À/À,À0Ì©Ì¨À\\x09À\\x13À\" 400 -\n",
      "94.102.49.155 - - [19/Jul/2025 16:02:11] \"GET /v2/_catalog HTTP/1.1\" 404 -\n"
     ]
    }
   ],
   "source": [
    "# Start Flask in a background thread\n",
    "Thread(target=run_flask, daemon=True).start()"
   ]
  },
  {
   "cell_type": "code",
   "execution_count": null,
   "id": "37200cbd",
   "metadata": {},
   "outputs": [],
   "source": []
  }
 ],
 "metadata": {
  "kernelspec": {
   "display_name": "Python 3 (ipykernel)",
   "language": "python",
   "name": "python3"
  }
 },
 "nbformat": 4,
 "nbformat_minor": 5
}
