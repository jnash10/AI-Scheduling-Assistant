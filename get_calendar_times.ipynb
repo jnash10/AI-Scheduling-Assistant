{
 "cells": [
  {
   "cell_type": "code",
   "execution_count": 24,
   "id": "ebf5b778",
   "metadata": {},
   "outputs": [],
   "source": [
    "from request_to_time import extract_time_window"
   ]
  },
  {
   "cell_type": "code",
   "execution_count": 25,
   "id": "b2f46151",
   "metadata": {},
   "outputs": [],
   "source": [
    "\n",
    "from get_calendar_events import retrive_calendar_events"
   ]
  },
  {
   "cell_type": "code",
   "execution_count": 26,
   "id": "8601a150",
   "metadata": {},
   "outputs": [],
   "source": [
    "import json\n",
    "\n",
    "input_request = json.load(open('JSON_Samples/Input_Request.json'))"
   ]
  },
  {
   "cell_type": "code",
   "execution_count": 27,
   "id": "bc1d0abc",
   "metadata": {},
   "outputs": [
    {
     "data": {
      "text/plain": [
       "{'Request_id': '6118b54f-907b-4451-8d48-dd13d76033a5',\n",
       " 'Datetime': '19-07-2025T12:34:55',\n",
       " 'Location': 'IISc Bangalore',\n",
       " 'From': 'userone.amd@gmail.com',\n",
       " 'Attendees': [{'email': 'usertwo.amd@gmail.com'},\n",
       "  {'email': 'userthree.amd@gmail.com'}],\n",
       " 'Subject': 'Agentic AI Project Status Update',\n",
       " 'EmailContent': \"Hi team, let's meet on Thursday  9 AM to discuss the status of Agentic AI Project.\"}"
      ]
     },
     "execution_count": 27,
     "metadata": {},
     "output_type": "execute_result"
    }
   ],
   "source": [
    "input_request['EmailContent'] = \"Hi team, let's meet on Thursday  9 AM to discuss the status of Agentic AI Project.\"\n",
    "input_request"
   ]
  },
  {
   "cell_type": "code",
   "execution_count": 28,
   "id": "e4265842",
   "metadata": {},
   "outputs": [
    {
     "data": {
      "text/plain": [
       "{'duration': 30,\n",
       " 'start_time': '2025-07-25T09:00:00',\n",
       " 'end_time': '2025-07-25T09:30:00'}"
      ]
     },
     "execution_count": 28,
     "metadata": {},
     "output_type": "execute_result"
    }
   ],
   "source": [
    "proposed_time = extract_time_window(input_request)\n",
    "proposed_time"
   ]
  },
  {
   "cell_type": "code",
   "execution_count": 29,
   "id": "b68b7f24",
   "metadata": {},
   "outputs": [
    {
     "data": {
      "text/plain": [
       "'usertwo.amd@gmail.com'"
      ]
     },
     "execution_count": 29,
     "metadata": {},
     "output_type": "execute_result"
    }
   ],
   "source": [
    "input_request['Attendees'][0]['email']"
   ]
  },
  {
   "cell_type": "code",
   "execution_count": 30,
   "id": "10af9b7d",
   "metadata": {},
   "outputs": [
    {
     "data": {
      "text/plain": [
       "[]"
      ]
     },
     "execution_count": 30,
     "metadata": {},
     "output_type": "execute_result"
    }
   ],
   "source": [
    "retrive_calendar_events(user = input_request['Attendees'][0]['email'], start= proposed_time['start_time']+'+05:30', end=proposed_time['end_time']+'+05:30' )"
   ]
  },
  {
   "cell_type": "code",
   "execution_count": 31,
   "id": "e0b34397",
   "metadata": {},
   "outputs": [
    {
     "data": {
      "text/plain": [
       "[{'StartTime': '2025-07-23T18:00:00+05:30',\n",
       "  'EndTime': '2025-07-24T09:00:00+05:30',\n",
       "  'NumAttendees': 1,\n",
       "  'Attendees': ['SELF'],\n",
       "  'Summary': 'Off Hours'},\n",
       " {'StartTime': '2025-07-24T18:00:00+05:30',\n",
       "  'EndTime': '2025-07-25T09:00:00+05:30',\n",
       "  'NumAttendees': 1,\n",
       "  'Attendees': ['SELF'],\n",
       "  'Summary': 'Off Hours'}]"
      ]
     },
     "execution_count": 31,
     "metadata": {},
     "output_type": "execute_result"
    }
   ],
   "source": [
    "retrive_calendar_events(\"usertwo.amd@gmail.com\", '2025-07-24T00:00:00+05:30', '2025-07-24T23:59:59+05:30')"
   ]
  },
  {
   "cell_type": "code",
   "execution_count": null,
   "id": "accb1450",
   "metadata": {},
   "outputs": [],
   "source": []
  }
 ],
 "metadata": {
  "kernelspec": {
   "display_name": "Python 3 (ipykernel)",
   "language": "python",
   "name": "python3"
  },
  "language_info": {
   "codemirror_mode": {
    "name": "ipython",
    "version": 3
   },
   "file_extension": ".py",
   "mimetype": "text/x-python",
   "name": "python",
   "nbconvert_exporter": "python",
   "pygments_lexer": "ipython3",
   "version": "3.12.10"
  }
 },
 "nbformat": 4,
 "nbformat_minor": 5
}
