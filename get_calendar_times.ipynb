{
 "cells": [
  {
   "cell_type": "code",
   "execution_count": 7,
   "id": "ebf5b778",
   "metadata": {},
   "outputs": [],
   "source": [
    "from request_to_time import extract_time_window"
   ]
  },
  {
   "cell_type": "code",
   "execution_count": 8,
   "id": "b2f46151",
   "metadata": {},
   "outputs": [],
   "source": [
    "\n",
    "from get_calendar_events import retrive_calendar_events"
   ]
  },
  {
   "cell_type": "code",
   "execution_count": 9,
   "id": "8601a150",
   "metadata": {},
   "outputs": [],
   "source": [
    "import json\n",
    "\n",
    "input_request = json.load(open('JSON_Samples/Input_Request.json'))\n",
    "input_request_2 = json.loads(\"\"\"{\n",
    "    \"Request_id\": \"6118b54f-907b-4451-8d48-dd13d76033b5\",\n",
    "    \"Datetime\": \"19-07-2025T12:34:55\",\n",
    "    \"Location\": \"IISc Bangalore\",\n",
    "    \"From\": \"userone.amd@gmail.com\",\n",
    "    \"Attendees\": [\n",
    "        {\n",
    "            \"email\": \"usertwo.amd@gmail.com\"\n",
    "        },\n",
    "        {\n",
    "            \"email\": \"userthree.amd@gmail.com\"\n",
    "        }\n",
    "    ],\n",
    "    \"Subject\": \"Client Validation - Urgent\",\n",
    "    \"EmailContent\": \"Hi Team. We’ve just received quick feedback from the client indicating that the instructions we provided aren’t working on their end. Let’s prioritize resolving this promptly. Let’s meet on Monday at 7:30 AM to discuss and resolve this issue.\"\n",
    "}\"\"\")"
   ]
  },
  {
   "cell_type": "code",
   "execution_count": 10,
   "id": "f2ab4d2d",
   "metadata": {},
   "outputs": [
    {
     "data": {
      "text/plain": [
       "{'Request_id': '6118b54f-907b-4451-8d48-dd13d76033b5',\n",
       " 'Datetime': '19-07-2025T12:34:55',\n",
       " 'Location': 'IISc Bangalore',\n",
       " 'From': 'userone.amd@gmail.com',\n",
       " 'Attendees': [{'email': 'usertwo.amd@gmail.com'},\n",
       "  {'email': 'userthree.amd@gmail.com'}],\n",
       " 'Subject': 'Client Validation - Urgent',\n",
       " 'EmailContent': 'Hi Team. We’ve just received quick feedback from the client indicating that the instructions we provided aren’t working on their end. Let’s prioritize resolving this promptly. Let’s meet on Monday at 7:30 AM to discuss and resolve this issue.'}"
      ]
     },
     "execution_count": 10,
     "metadata": {},
     "output_type": "execute_result"
    }
   ],
   "source": [
    "input_request_2"
   ]
  },
  {
   "cell_type": "code",
   "execution_count": 103,
   "id": "e0b34397",
   "metadata": {},
   "outputs": [
    {
     "data": {
      "text/plain": [
       "[{'StartTime': '2025-07-20T18:00:00+05:30',\n",
       "  'EndTime': '2025-07-21T09:00:00+05:30',\n",
       "  'NumAttendees': 1,\n",
       "  'Attendees': ['SELF'],\n",
       "  'Summary': 'Off Hours'},\n",
       " {'StartTime': '2025-07-21T07:30:00+05:30',\n",
       "  'EndTime': '2025-07-21T08:00:00+05:30',\n",
       "  'NumAttendees': 4,\n",
       "  'Attendees': ['userone.amd@gmail.com',\n",
       "   'usertwo.amd@gmail.com',\n",
       "   'userthree.amd@gmail.com',\n",
       "   'team@amd.com'],\n",
       "  'Summary': 'Client Validation - Urgent'},\n",
       " {'StartTime': '2025-07-21T10:00:00+05:30',\n",
       "  'EndTime': '2025-07-21T10:30:00+05:30',\n",
       "  'NumAttendees': 4,\n",
       "  'Attendees': ['userone.amd@gmail.com',\n",
       "   'usertwo.amd@gmail.com',\n",
       "   'userthree.amd@gmail.com',\n",
       "   'team@amd.com'],\n",
       "  'Summary': 'Agentic AI Project Status Update'},\n",
       " {'StartTime': '2025-07-21T10:30:00+05:30',\n",
       "  'EndTime': '2025-07-21T11:00:00+05:30',\n",
       "  'NumAttendees': 4,\n",
       "  'Attendees': ['userone.amd@gmail.com',\n",
       "   'usertwo.amd@gmail.com',\n",
       "   'userthree.amd@gmail.com',\n",
       "   'team@amd.com'],\n",
       "  'Summary': 'Agentic AI Project Status Update'},\n",
       " {'StartTime': '2025-07-21T18:00:00+05:30',\n",
       "  'EndTime': '2025-07-22T09:00:00+05:30',\n",
       "  'NumAttendees': 1,\n",
       "  'Attendees': ['SELF'],\n",
       "  'Summary': 'Off Hours'},\n",
       " {'StartTime': '2025-07-22T07:30:00+05:30',\n",
       "  'EndTime': '2025-07-22T08:30:00+05:30',\n",
       "  'NumAttendees': 4,\n",
       "  'Attendees': ['userone.amd@gmail.com',\n",
       "   'usertwo.amd@gmail.com',\n",
       "   'userthree.amd@gmail.com',\n",
       "   'team@amd.com'],\n",
       "  'Summary': 'Project Status'},\n",
       " {'StartTime': '2025-07-22T18:00:00+05:30',\n",
       "  'EndTime': '2025-07-23T09:00:00+05:30',\n",
       "  'NumAttendees': 1,\n",
       "  'Attendees': ['SELF'],\n",
       "  'Summary': 'Off Hours'},\n",
       " {'StartTime': '2025-07-23T07:30:00+05:30',\n",
       "  'EndTime': '2025-07-23T08:00:00+05:30',\n",
       "  'NumAttendees': 4,\n",
       "  'Attendees': ['userone.amd@gmail.com',\n",
       "   'usertwo.amd@gmail.com',\n",
       "   'userthree.amd@gmail.com',\n",
       "   'team@amd.com'],\n",
       "  'Summary': 'Client Feedback'},\n",
       " {'StartTime': '2025-07-23T18:00:00+05:30',\n",
       "  'EndTime': '2025-07-24T09:00:00+05:30',\n",
       "  'NumAttendees': 1,\n",
       "  'Attendees': ['SELF'],\n",
       "  'Summary': 'Off Hours'},\n",
       " {'StartTime': '2025-07-24T09:00:00+05:30',\n",
       "  'EndTime': '2025-07-24T09:30:00+05:30',\n",
       "  'NumAttendees': 3,\n",
       "  'Attendees': ['userone.amd@gmail.com',\n",
       "   'usertwo.amd@gmail.com',\n",
       "   'userthree.amd@gmail.com'],\n",
       "  'Summary': 'Agentic AI Project Status Update'},\n",
       " {'StartTime': '2025-07-24T18:00:00+05:30',\n",
       "  'EndTime': '2025-07-25T09:00:00+05:30',\n",
       "  'NumAttendees': 1,\n",
       "  'Attendees': ['SELF'],\n",
       "  'Summary': 'Off Hours'},\n",
       " {'StartTime': '2025-07-25T18:00:00+05:30',\n",
       "  'EndTime': '2025-07-26T09:00:00+05:30',\n",
       "  'NumAttendees': 1,\n",
       "  'Attendees': ['SELF'],\n",
       "  'Summary': 'Off Hours'}]"
      ]
     },
     "execution_count": 103,
     "metadata": {},
     "output_type": "execute_result"
    }
   ],
   "source": [
    "retrive_calendar_events(\"userone.amd@gmail.com\", '2025-07-21T00:00:00+05:30', '2025-07-25T23:59:59+05:30')"
   ]
  },
  {
   "cell_type": "code",
   "execution_count": 86,
   "id": "3e185939",
   "metadata": {},
   "outputs": [],
   "source": [
    "def get_attendee_events(proposed_time, user_email):\n",
    "    \"\"\"get the attendee's calendar events for:\n",
    "    1. the day of the propose start_time\n",
    "    2. the next day of the proposed end_time\"\"\"\n",
    "    user = user_email\n",
    "    start_day = proposed_time['start_time'].split('T')[0]\n",
    "    end_day = proposed_time['end_time'].split('T')[0]\n",
    "    end_day_plus_one = proposed_time['end_time'].split('T')[0]\n",
    "    end_day_plus_one = end_day_plus_one.split('-')\n",
    "    end_day_plus_one[2] = str(int(end_day_plus_one[2]) + 0)\n",
    "    end_day_plus_one = '-'.join(end_day_plus_one)   \n",
    "\n",
    "    start_day_time_stamp = f\"{start_day}T00:00:00+05:30\"\n",
    "    end_day_time_stamp = f\"{end_day}T23:59:59+05:30\"\n",
    "    end_day_plus_one_time_stamp = f\"{end_day_plus_one}T23:59:59+05:30\"\n",
    "\n",
    "    events = retrive_calendar_events(user, start_day_time_stamp, end_day_plus_one_time_stamp)\n",
    "\n",
    "    return events"
   ]
  },
  {
   "cell_type": "code",
   "execution_count": 87,
   "id": "8348631d",
   "metadata": {},
   "outputs": [],
   "source": [
    "def get_all_attendee_events(proposed_time, input_request):\n",
    "    \"\"\" Get all attendees' calendar events for the proposed time window's day plus the next day.\"\"\"\n",
    "    events = {}\n",
    "    #get sender events\n",
    "    from_email = input_request['From']\n",
    "    events[from_email] = get_attendee_events(proposed_time, from_email)\n",
    "    #get all other attendees events\n",
    "    for attendee in input_request['Attendees']:\n",
    "        user_email = attendee['email']\n",
    "        events[user_email] = get_attendee_events(proposed_time, user_email)\n",
    "    return events"
   ]
  },
  {
   "cell_type": "code",
   "execution_count": 88,
   "id": "73d45af0",
   "metadata": {},
   "outputs": [],
   "source": [
    "proposed_time = extract_time_window(input_request_2)"
   ]
  },
  {
   "cell_type": "code",
   "execution_count": 89,
   "id": "b42d279d",
   "metadata": {},
   "outputs": [
    {
     "data": {
      "text/plain": [
       "{'duration': 30,\n",
       " 'start_time': '2025-07-21T10:30:00+05:30',\n",
       " 'end_time': '2025-07-21T11:00:00+05:30'}"
      ]
     },
     "execution_count": 89,
     "metadata": {},
     "output_type": "execute_result"
    }
   ],
   "source": [
    "proposed_time"
   ]
  },
  {
   "cell_type": "code",
   "execution_count": 90,
   "id": "646034f3",
   "metadata": {},
   "outputs": [
    {
     "data": {
      "text/plain": [
       "{'userone.amd@gmail.com': [{'StartTime': '2025-07-20T18:00:00+05:30',\n",
       "   'EndTime': '2025-07-21T09:00:00+05:30',\n",
       "   'NumAttendees': 1,\n",
       "   'Attendees': ['SELF'],\n",
       "   'Summary': 'Off Hours'},\n",
       "  {'StartTime': '2025-07-21T07:30:00+05:30',\n",
       "   'EndTime': '2025-07-21T08:00:00+05:30',\n",
       "   'NumAttendees': 4,\n",
       "   'Attendees': ['team@amd.com',\n",
       "    'usertwo.amd@gmail.com',\n",
       "    'userone.amd@gmail.com',\n",
       "    'userthree.amd@gmail.com'],\n",
       "   'Summary': 'Client Validation - Urgent'},\n",
       "  {'StartTime': '2025-07-21T10:00:00+05:30',\n",
       "   'EndTime': '2025-07-21T10:30:00+05:30',\n",
       "   'NumAttendees': 4,\n",
       "   'Attendees': ['team@amd.com',\n",
       "    'usertwo.amd@gmail.com',\n",
       "    'userone.amd@gmail.com',\n",
       "    'userthree.amd@gmail.com'],\n",
       "   'Summary': 'Agentic AI Project Status Update'},\n",
       "  {'StartTime': '2025-07-21T10:30:00+05:30',\n",
       "   'EndTime': '2025-07-21T11:00:00+05:30',\n",
       "   'NumAttendees': 4,\n",
       "   'Attendees': ['team@amd.com',\n",
       "    'usertwo.amd@gmail.com',\n",
       "    'userone.amd@gmail.com',\n",
       "    'userthree.amd@gmail.com'],\n",
       "   'Summary': 'Agentic AI Project Status Update'},\n",
       "  {'StartTime': '2025-07-21T18:00:00+05:30',\n",
       "   'EndTime': '2025-07-22T09:00:00+05:30',\n",
       "   'NumAttendees': 1,\n",
       "   'Attendees': ['SELF'],\n",
       "   'Summary': 'Off Hours'}],\n",
       " 'usertwo.amd@gmail.com': [{'StartTime': '2025-07-20T18:00:00+05:30',\n",
       "   'EndTime': '2025-07-21T09:00:00+05:30',\n",
       "   'NumAttendees': 1,\n",
       "   'Attendees': ['SELF'],\n",
       "   'Summary': 'Off Hours'},\n",
       "  {'StartTime': '2025-07-21T18:00:00+05:30',\n",
       "   'EndTime': '2025-07-22T09:00:00+05:30',\n",
       "   'NumAttendees': 1,\n",
       "   'Attendees': ['SELF'],\n",
       "   'Summary': 'Off Hours'}],\n",
       " 'userthree.amd@gmail.com': [{'StartTime': '2025-07-20T16:00:00+05:30',\n",
       "   'EndTime': '2025-07-21T07:30:00+05:30',\n",
       "   'NumAttendees': 1,\n",
       "   'Attendees': ['SELF'],\n",
       "   'Summary': 'Off Hours'},\n",
       "  {'StartTime': '2025-07-21T07:30:00+05:30',\n",
       "   'EndTime': '2025-07-21T08:00:00+05:30',\n",
       "   'NumAttendees': 4,\n",
       "   'Attendees': ['team@amd.com',\n",
       "    'usertwo.amd@gmail.com',\n",
       "    'userone.amd@gmail.com',\n",
       "    'userthree.amd@gmail.com'],\n",
       "   'Summary': 'Client Validation - Urgent'},\n",
       "  {'StartTime': '2025-07-21T09:00:00+05:30',\n",
       "   'EndTime': '2025-07-21T10:00:00+05:30',\n",
       "   'NumAttendees': 1,\n",
       "   'Attendees': ['SELF'],\n",
       "   'Summary': '1v1 with Team Member'},\n",
       "  {'StartTime': '2025-07-21T10:00:00+05:30',\n",
       "   'EndTime': '2025-07-21T10:30:00+05:30',\n",
       "   'NumAttendees': 4,\n",
       "   'Attendees': ['team@amd.com',\n",
       "    'usertwo.amd@gmail.com',\n",
       "    'userone.amd@gmail.com',\n",
       "    'userthree.amd@gmail.com'],\n",
       "   'Summary': 'Agentic AI Project Status Update'},\n",
       "  {'StartTime': '2025-07-21T10:30:00+05:30',\n",
       "   'EndTime': '2025-07-21T11:00:00+05:30',\n",
       "   'NumAttendees': 4,\n",
       "   'Attendees': ['team@amd.com',\n",
       "    'usertwo.amd@gmail.com',\n",
       "    'userone.amd@gmail.com',\n",
       "    'userthree.amd@gmail.com'],\n",
       "   'Summary': 'Agentic AI Project Status Update'},\n",
       "  {'StartTime': '2025-07-21T16:00:00+05:30',\n",
       "   'EndTime': '2025-07-22T07:30:00+05:30',\n",
       "   'NumAttendees': 1,\n",
       "   'Attendees': ['SELF'],\n",
       "   'Summary': 'Off Hours'}]}"
      ]
     },
     "execution_count": 90,
     "metadata": {},
     "output_type": "execute_result"
    }
   ],
   "source": [
    "get_all_attendee_events(proposed_time, input_request_2)"
   ]
  },
  {
   "cell_type": "code",
   "execution_count": 17,
   "id": "d14032af",
   "metadata": {},
   "outputs": [],
   "source": [
    "from get_attendee_events import get_all_attendee_events"
   ]
  },
  {
   "cell_type": "code",
   "execution_count": 18,
   "id": "5d1a94f0",
   "metadata": {},
   "outputs": [
    {
     "data": {
      "text/plain": [
       "[[{'StartTime': '2025-07-23T18:00:00+05:30',\n",
       "   'EndTime': '2025-07-24T09:00:00+05:30',\n",
       "   'NumAttendees': 1,\n",
       "   'Attendees': ['SELF'],\n",
       "   'Summary': 'Off Hours'},\n",
       "  {'StartTime': '2025-07-24T09:30:00+05:30',\n",
       "   'EndTime': '2025-07-24T10:00:00+05:30',\n",
       "   'NumAttendees': 3,\n",
       "   'Attendees': ['userone.amd@gmail.com',\n",
       "    'userthree.amd@gmail.com',\n",
       "    'usertwo.amd@gmail.com'],\n",
       "   'Summary': 'Agentic AI Project Status Update'},\n",
       "  {'StartTime': '2025-07-24T18:00:00+05:30',\n",
       "   'EndTime': '2025-07-25T09:00:00+05:30',\n",
       "   'NumAttendees': 1,\n",
       "   'Attendees': ['SELF'],\n",
       "   'Summary': 'Off Hours'}],\n",
       " [{'StartTime': '2025-07-23T18:00:00+05:30',\n",
       "   'EndTime': '2025-07-24T09:00:00+05:30',\n",
       "   'NumAttendees': 1,\n",
       "   'Attendees': ['SELF'],\n",
       "   'Summary': 'Off Hours'},\n",
       "  {'StartTime': '2025-07-24T18:00:00+05:30',\n",
       "   'EndTime': '2025-07-25T09:00:00+05:30',\n",
       "   'NumAttendees': 1,\n",
       "   'Attendees': ['SELF'],\n",
       "   'Summary': 'Off Hours'}],\n",
       " [{'StartTime': '2025-07-23T16:00:00+05:30',\n",
       "   'EndTime': '2025-07-24T07:30:00+05:30',\n",
       "   'NumAttendees': 1,\n",
       "   'Attendees': ['SELF'],\n",
       "   'Summary': 'Off Hours'},\n",
       "  {'StartTime': '2025-07-24T16:00:00+05:30',\n",
       "   'EndTime': '2025-07-25T07:30:00+05:30',\n",
       "   'NumAttendees': 1,\n",
       "   'Attendees': ['SELF'],\n",
       "   'Summary': 'Off Hours'}]]"
      ]
     },
     "execution_count": 18,
     "metadata": {},
     "output_type": "execute_result"
    }
   ],
   "source": [
    "proposed_time = extract_time_window(input_request)\n",
    "\n",
    "get_all_attendee_events(proposed_time, input_request)"
   ]
  },
  {
   "cell_type": "code",
   "execution_count": null,
   "id": "d6fe6ce1",
   "metadata": {},
   "outputs": [],
   "source": []
  }
 ],
 "metadata": {
  "kernelspec": {
   "display_name": "Python 3 (ipykernel)",
   "language": "python",
   "name": "python3"
  },
  "language_info": {
   "codemirror_mode": {
    "name": "ipython",
    "version": 3
   },
   "file_extension": ".py",
   "mimetype": "text/x-python",
   "name": "python",
   "nbconvert_exporter": "python",
   "pygments_lexer": "ipython3",
   "version": "3.12.10"
  }
 },
 "nbformat": 4,
 "nbformat_minor": 5
}
