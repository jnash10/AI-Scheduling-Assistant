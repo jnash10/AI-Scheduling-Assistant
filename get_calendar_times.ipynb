{
 "cells": [
  {
   "cell_type": "code",
   "execution_count": 1,
   "id": "ebf5b778",
   "metadata": {},
   "outputs": [],
   "source": [
    "from request_to_time import extract_time_window"
   ]
  },
  {
   "cell_type": "code",
   "execution_count": 2,
   "id": "b2f46151",
   "metadata": {},
   "outputs": [],
   "source": [
    "\n",
    "from get_calendar_events import retrive_calendar_events"
   ]
  },
  {
   "cell_type": "code",
   "execution_count": 32,
   "id": "8601a150",
   "metadata": {},
   "outputs": [],
   "source": [
    "import json\n",
    "\n",
    "input_request = json.load(open('JSON_Samples/Input_Request.json'))\n",
    "input_request_2 = json.loads(\"\"\"{\n",
    "    \"Request_id\": \"6118b54f-907b-4451-8d48-dd13d76033b5\",\n",
    "    \"Datetime\": \"19-07-2025T12:34:55\",\n",
    "    \"Location\": \"IISc Bangalore\",\n",
    "    \"From\": \"userone.amd@gmail.com\",\n",
    "    \"Attendees\": [\n",
    "        {\n",
    "            \"email\": \"usertwo.amd@gmail.com\"\n",
    "        },\n",
    "        {\n",
    "            \"email\": \"userthree.amd@gmail.com\"\n",
    "        }\n",
    "    ],\n",
    "    \"Subject\": \"Client Validation - Urgent\",\n",
    "    \"EmailContent\": \"Hi Team. We’ve just received quick feedback from the client indicating that the instructions we provided aren’t working on their end. Let’s prioritize resolving this promptly. Let’s meet Monday at 7:30 AM to discuss and resolve this issue.\"\n",
    "}\"\"\")"
   ]
  },
  {
   "cell_type": "code",
   "execution_count": 33,
   "id": "bc1d0abc",
   "metadata": {},
   "outputs": [
    {
     "data": {
      "text/plain": [
       "{'Request_id': '6118b54f-907b-4451-8d48-dd13d76033a5',\n",
       " 'Datetime': '19-07-2025T12:34:55',\n",
       " 'Location': 'IISc Bangalore',\n",
       " 'From': 'userone.amd@gmail.com',\n",
       " 'Attendees': [{'email': 'usertwo.amd@gmail.com'},\n",
       "  {'email': 'userthree.amd@gmail.com'}],\n",
       " 'Subject': 'Agentic AI Project Status Update',\n",
       " 'EmailContent': \"Hi team, let's meet on Thursday for 30 minutes to discuss the status of Agentic AI Project.\"}"
      ]
     },
     "execution_count": 33,
     "metadata": {},
     "output_type": "execute_result"
    }
   ],
   "source": [
    "# input_request['EmailContent'] = \"Hi team, let's meet on Thursday  9 AM to discuss the status of Agentic AI Project.\"\n",
    "input_request"
   ]
  },
  {
   "cell_type": "code",
   "execution_count": 34,
   "id": "f2ab4d2d",
   "metadata": {},
   "outputs": [
    {
     "data": {
      "text/plain": [
       "{'Request_id': '6118b54f-907b-4451-8d48-dd13d76033b5',\n",
       " 'Datetime': '19-07-2025T12:34:55',\n",
       " 'Location': 'IISc Bangalore',\n",
       " 'From': 'userone.amd@gmail.com',\n",
       " 'Attendees': [{'email': 'usertwo.amd@gmail.com'},\n",
       "  {'email': 'userthree.amd@gmail.com'}],\n",
       " 'Subject': 'Client Validation - Urgent',\n",
       " 'EmailContent': 'Hi Team. We’ve just received quick feedback from the client indicating that the instructions we provided aren’t working on their end. Let’s prioritize resolving this promptly. Let’s meet Monday at 7:30 AM to discuss and resolve this issue.'}"
      ]
     },
     "execution_count": 34,
     "metadata": {},
     "output_type": "execute_result"
    }
   ],
   "source": [
    "input_request_2"
   ]
  },
  {
   "cell_type": "code",
   "execution_count": 35,
   "id": "e0b34397",
   "metadata": {},
   "outputs": [
    {
     "data": {
      "text/plain": [
       "[{'StartTime': '2025-07-20T18:00:00+05:30',\n",
       "  'EndTime': '2025-07-21T09:00:00+05:30',\n",
       "  'NumAttendees': 1,\n",
       "  'Attendees': ['SELF'],\n",
       "  'Summary': 'Off Hours'},\n",
       " {'StartTime': '2025-07-21T07:30:00+05:30',\n",
       "  'EndTime': '2025-07-21T08:00:00+05:30',\n",
       "  'NumAttendees': 4,\n",
       "  'Attendees': ['userone.amd@gmail.com',\n",
       "   'userthree.amd@gmail.com',\n",
       "   'team@amd.com',\n",
       "   'usertwo.amd@gmail.com'],\n",
       "  'Summary': 'Client Validation - Urgent'},\n",
       " {'StartTime': '2025-07-21T10:00:00+05:30',\n",
       "  'EndTime': '2025-07-21T10:30:00+05:30',\n",
       "  'NumAttendees': 4,\n",
       "  'Attendees': ['userone.amd@gmail.com',\n",
       "   'userthree.amd@gmail.com',\n",
       "   'team@amd.com',\n",
       "   'usertwo.amd@gmail.com'],\n",
       "  'Summary': 'Agentic AI Project Status Update'},\n",
       " {'StartTime': '2025-07-21T10:30:00+05:30',\n",
       "  'EndTime': '2025-07-21T11:00:00+05:30',\n",
       "  'NumAttendees': 4,\n",
       "  'Attendees': ['userone.amd@gmail.com',\n",
       "   'userthree.amd@gmail.com',\n",
       "   'team@amd.com',\n",
       "   'usertwo.amd@gmail.com'],\n",
       "  'Summary': 'Agentic AI Project Status Update'},\n",
       " {'StartTime': '2025-07-21T18:00:00+05:30',\n",
       "  'EndTime': '2025-07-22T09:00:00+05:30',\n",
       "  'NumAttendees': 1,\n",
       "  'Attendees': ['SELF'],\n",
       "  'Summary': 'Off Hours'}]"
      ]
     },
     "execution_count": 35,
     "metadata": {},
     "output_type": "execute_result"
    }
   ],
   "source": [
    "retrive_calendar_events(\"userone.amd@gmail.com\", '2025-07-21T00:00:00+05:30', '2025-07-21T23:59:59+05:30')"
   ]
  },
  {
   "cell_type": "code",
   "execution_count": 36,
   "id": "3e185939",
   "metadata": {},
   "outputs": [],
   "source": [
    "def get_attendee_events(proposed_time, user_email):\n",
    "    user = user_email\n",
    "    start = proposed_time['start_time']\n",
    "    end = proposed_time['end_time']\n",
    "    return retrive_calendar_events(user, start, end)"
   ]
  },
  {
   "cell_type": "code",
   "execution_count": 37,
   "id": "8348631d",
   "metadata": {},
   "outputs": [],
   "source": [
    "def get_all_attendee_events(proposed_time, input_request):\n",
    "    events = []\n",
    "    #get sender events\n",
    "    from_email = input_request['From']\n",
    "    events.append(get_attendee_events(proposed_time, from_email))\n",
    "    #get all other attendees events\n",
    "    for attendee in input_request['Attendees']:\n",
    "        user_email = attendee['email']\n",
    "        events.append(get_attendee_events(proposed_time, user_email))\n",
    "    return events"
   ]
  },
  {
   "cell_type": "code",
   "execution_count": 38,
   "id": "73d45af0",
   "metadata": {},
   "outputs": [],
   "source": [
    "proposed_time = extract_time_window(input_request_2)"
   ]
  },
  {
   "cell_type": "code",
   "execution_count": 39,
   "id": "b42d279d",
   "metadata": {},
   "outputs": [
    {
     "data": {
      "text/plain": [
       "{'duration': 30,\n",
       " 'start_time': '2025-07-21T07:30:00+05:30',\n",
       " 'end_time': '2025-07-21T08:00:00+05:30'}"
      ]
     },
     "execution_count": 39,
     "metadata": {},
     "output_type": "execute_result"
    }
   ],
   "source": [
    "proposed_time"
   ]
  },
  {
   "cell_type": "code",
   "execution_count": 40,
   "id": "646034f3",
   "metadata": {},
   "outputs": [
    {
     "data": {
      "text/plain": [
       "[[{'StartTime': '2025-07-20T18:00:00+05:30',\n",
       "   'EndTime': '2025-07-21T09:00:00+05:30',\n",
       "   'NumAttendees': 1,\n",
       "   'Attendees': ['SELF'],\n",
       "   'Summary': 'Off Hours'},\n",
       "  {'StartTime': '2025-07-21T07:30:00+05:30',\n",
       "   'EndTime': '2025-07-21T08:00:00+05:30',\n",
       "   'NumAttendees': 4,\n",
       "   'Attendees': ['userone.amd@gmail.com',\n",
       "    'userthree.amd@gmail.com',\n",
       "    'team@amd.com',\n",
       "    'usertwo.amd@gmail.com'],\n",
       "   'Summary': 'Client Validation - Urgent'}],\n",
       " [{'StartTime': '2025-07-20T18:00:00+05:30',\n",
       "   'EndTime': '2025-07-21T09:00:00+05:30',\n",
       "   'NumAttendees': 1,\n",
       "   'Attendees': ['SELF'],\n",
       "   'Summary': 'Off Hours'}],\n",
       " [{'StartTime': '2025-07-21T07:30:00+05:30',\n",
       "   'EndTime': '2025-07-21T08:00:00+05:30',\n",
       "   'NumAttendees': 4,\n",
       "   'Attendees': ['userone.amd@gmail.com',\n",
       "    'userthree.amd@gmail.com',\n",
       "    'team@amd.com',\n",
       "    'usertwo.amd@gmail.com'],\n",
       "   'Summary': 'Client Validation - Urgent'}]]"
      ]
     },
     "execution_count": 40,
     "metadata": {},
     "output_type": "execute_result"
    }
   ],
   "source": [
    "get_all_attendee_events(proposed_time, input_request_2)"
   ]
  },
  {
   "cell_type": "code",
   "execution_count": null,
   "id": "d14032af",
   "metadata": {},
   "outputs": [],
   "source": []
  }
 ],
 "metadata": {
  "kernelspec": {
   "display_name": "Python 3 (ipykernel)",
   "language": "python",
   "name": "python3"
  },
  "language_info": {
   "codemirror_mode": {
    "name": "ipython",
    "version": 3
   },
   "file_extension": ".py",
   "mimetype": "text/x-python",
   "name": "python",
   "nbconvert_exporter": "python",
   "pygments_lexer": "ipython3",
   "version": "3.12.10"
  }
 },
 "nbformat": 4,
 "nbformat_minor": 5
}
