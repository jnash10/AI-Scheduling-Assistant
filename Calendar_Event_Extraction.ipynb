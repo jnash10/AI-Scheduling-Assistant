{
 "cells": [
  {
   "cell_type": "markdown",
   "id": "ad70f19d",
   "metadata": {},
   "source": [
    "# Google Calendar Event Fetcher\n",
    "\n",
    "#### The Notebook demonstrates how to programmatically retrieve and process Google Calendar events for a given user and date range.\n",
    "\n",
    "##### Key Steps:\n",
    "\n",
    "Authentication: Load user credentials from a token file.\n",
    "\n",
    "API Call: Fetch events between specified start/end dates using the Google Calendar API.\n",
    "\n",
    "Data Processing: Extract event details (start/end times, attendees) and structure them into a clean format.\n",
    "\n",
    "Output: Return a list of events with attendee counts and time slots.\n",
    "```"
   ]
  },
  {
   "cell_type": "markdown",
   "id": "4411255e",
   "metadata": {},
   "source": [
    "### Importing Required Libraries"
   ]
  },
  {
   "cell_type": "code",
   "execution_count": 12,
   "id": "1c82ee6f",
   "metadata": {},
   "outputs": [],
   "source": [
    "import json\n",
    "from datetime import datetime, timezone, timedelta\n",
    "from google.oauth2.credentials import Credentials\n",
    "from googleapiclient.discovery import build"
   ]
  },
  {
   "cell_type": "markdown",
   "id": "e4e1d252",
   "metadata": {},
   "source": [
    "### Defining the retrive_calendar_events Function that includes : \n",
    "#### 1. Authenticating with Google Calendar\n",
    "#### 2. Fetching Events\n",
    "#### 3. Processing Events & Structuring"
   ]
  },
  {
   "cell_type": "code",
   "execution_count": 13,
   "id": "a71a3470",
   "metadata": {},
   "outputs": [],
   "source": [
    "def retrive_calendar_events(user, start, end):\n",
    "    events_list = []\n",
    "    token_path = \"Keys/\"+user.split(\"@\")[0]+\".token\"\n",
    "    user_creds = Credentials.from_authorized_user_file(token_path)\n",
    "    calendar_service = build(\"calendar\", \"v3\", credentials=user_creds)\n",
    "    events_result = calendar_service.events().list(calendarId='primary', timeMin=start,timeMax=end,singleEvents=True,orderBy='startTime').execute()\n",
    "    events = events_result.get('items')\n",
    "    \n",
    "    for event in events : \n",
    "        attendee_list = []\n",
    "        try:\n",
    "            for attendee in event[\"attendees\"]: \n",
    "                attendee_list.append(attendee['email'])\n",
    "        except: \n",
    "            attendee_list.append(\"SELF\")\n",
    "        start_time = event[\"start\"].get(\"dateTime\", event[\"start\"].get(\"date\"))\n",
    "        end_time = event[\"end\"].get(\"dateTime\", event[\"end\"].get(\"date\"))\n",
    "        events_list.append(\n",
    "            {\"StartTime\" : start_time, \n",
    "             \"EndTime\": end_time, \n",
    "             \"NumAttendees\" :len(set(attendee_list)), \n",
    "             \"Attendees\" : list(set(attendee_list)),\n",
    "             \"Summary\" : event[\"summary\"]})\n",
    "    return events_list"
   ]
  },
  {
   "cell_type": "markdown",
   "id": "e2c46704",
   "metadata": {},
   "source": [
    "### Calling ```retrive_calendar_events``` with Auth Token, Start Date & End Date \n",
    "#### Date Format : YYYY-MM-DD (T) HH:MM:SS +TIMEZONE (+5:30 Indicates IST Time Zone Asia/Kolkata ) "
   ]
  },
  {
   "cell_type": "code",
   "execution_count": 14,
   "id": "8a76b494",
   "metadata": {},
   "outputs": [
    {
     "data": {
      "text/plain": [
       "[{'StartTime': '2025-07-13T16:00:00+05:30',\n",
       "  'EndTime': '2025-07-14T07:30:00+05:30',\n",
       "  'NumAttendees': 1,\n",
       "  'Attendees': ['SELF'],\n",
       "  'Summary': 'Off Hours'},\n",
       " {'StartTime': '2025-07-14T09:00:00+05:30',\n",
       "  'EndTime': '2025-07-14T10:00:00+05:30',\n",
       "  'NumAttendees': 1,\n",
       "  'Attendees': ['SELF'],\n",
       "  'Summary': '1V1 Team Member'},\n",
       " {'StartTime': '2025-07-14T14:00:00+05:30',\n",
       "  'EndTime': '2025-07-14T15:00:00+05:30',\n",
       "  'NumAttendees': 3,\n",
       "  'Attendees': ['userone.amd@gmail.com',\n",
       "   'userthree.amd@gmail.com',\n",
       "   'usertwo.amd@gmail.com'],\n",
       "  'Summary': 'Team Meet'},\n",
       " {'StartTime': '2025-07-14T16:00:00+05:30',\n",
       "  'EndTime': '2025-07-15T07:30:00+05:30',\n",
       "  'NumAttendees': 1,\n",
       "  'Attendees': ['SELF'],\n",
       "  'Summary': 'Off Hours'},\n",
       " {'StartTime': '2025-07-15T09:00:00+05:30',\n",
       "  'EndTime': '2025-07-15T16:00:00+05:30',\n",
       "  'NumAttendees': 1,\n",
       "  'Attendees': ['SELF'],\n",
       "  'Summary': 'AMD AI Workshop'},\n",
       " {'StartTime': '2025-07-15T16:00:00+05:30',\n",
       "  'EndTime': '2025-07-16T07:30:00+05:30',\n",
       "  'NumAttendees': 1,\n",
       "  'Attendees': ['SELF'],\n",
       "  'Summary': 'Off Hours'},\n",
       " {'StartTime': '2025-07-16T10:00:00+05:30',\n",
       "  'EndTime': '2025-07-16T11:00:00+05:30',\n",
       "  'NumAttendees': 1,\n",
       "  'Attendees': ['SELF'],\n",
       "  'Summary': 'Customer Call - Quarterly update'},\n",
       " {'StartTime': '2025-07-16T16:00:00+05:30',\n",
       "  'EndTime': '2025-07-17T07:30:00+05:30',\n",
       "  'NumAttendees': 1,\n",
       "  'Attendees': ['SELF'],\n",
       "  'Summary': 'Off Hours'},\n",
       " {'StartTime': '2025-07-17T16:00:00+05:30',\n",
       "  'EndTime': '2025-07-18T07:30:00+05:30',\n",
       "  'NumAttendees': 1,\n",
       "  'Attendees': ['SELF'],\n",
       "  'Summary': 'Off Hours'}]"
      ]
     },
     "execution_count": 14,
     "metadata": {},
     "output_type": "execute_result"
    }
   ],
   "source": [
    "event = retrive_calendar_events(\"userthree.amd@gmail.com\", '2025-07-14T00:00:00+05:30', '2025-07-17T23:59:59+05:30')\n",
    "event"
   ]
  },
  {
   "cell_type": "markdown",
   "id": "3d59631a",
   "metadata": {},
   "source": [
    "### Output that describing sample event : "
   ]
  },
  {
   "cell_type": "code",
   "execution_count": null,
   "id": "65cce1c0",
   "metadata": {},
   "outputs": [],
   "source": []
  }
 ],
 "metadata": {
  "kernelspec": {
   "display_name": "Python 3 (ipykernel)",
   "language": "python",
   "name": "python3"
  },
  "language_info": {
   "codemirror_mode": {
    "name": "ipython",
    "version": 3
   },
   "file_extension": ".py",
   "mimetype": "text/x-python",
   "name": "python",
   "nbconvert_exporter": "python",
   "pygments_lexer": "ipython3",
   "version": "3.12.10"
  }
 },
 "nbformat": 4,
 "nbformat_minor": 5
}
