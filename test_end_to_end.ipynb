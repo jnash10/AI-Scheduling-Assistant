{
 "cells": [
  {
   "cell_type": "code",
   "execution_count": 1,
   "id": "61361e58",
   "metadata": {},
   "outputs": [],
   "source": [
    "from propose_time import intelligent_meeting_scheduler"
   ]
  },
  {
   "cell_type": "code",
   "execution_count": 11,
   "id": "e662aebe",
   "metadata": {},
   "outputs": [],
   "source": [
    "import json\n",
    "\n",
    "input_request = json.loads(\"\"\"{\n",
    "    \"Request_id\": \"6118b54f-907b-4451-8d48-dd13d76033d5\",\n",
    "    \"Datetime\": \"19-07-2025T12:34:55\",\n",
    "    \"Location\": \"IISc Bangalore\",\n",
    "    \"From\": \"userone.amd@gmail.com\",\n",
    "    \"Attendees\": [\n",
    "        {\n",
    "            \"email\": \"usertwo.amd@gmail.com\"\n",
    "        },\n",
    "        {\n",
    "            \"email\": \"userthree.amd@gmail.com\"\n",
    "        }\n",
    "    ],\n",
    "    \"Subject\": \"Client Feedback\",\n",
    "    \"EmailContent\": \"Hi Team. We’ve received the final feedback from the client. Let’s review it together and plan next steps. Let's meet on Thursday at 10 PM.\"\n",
    "}\"\"\")"
   ]
  },
  {
   "cell_type": "code",
   "execution_count": 12,
   "id": "6bc59c9c",
   "metadata": {},
   "outputs": [
    {
     "data": {
      "text/plain": [
       "{'Request_id': '6118b54f-907b-4451-8d48-dd13d76033d5',\n",
       " 'Datetime': '19-07-2025T12:34:55',\n",
       " 'Location': 'IISc Bangalore',\n",
       " 'From': 'userone.amd@gmail.com',\n",
       " 'Attendees': [{'email': 'usertwo.amd@gmail.com'},\n",
       "  {'email': 'userthree.amd@gmail.com'}],\n",
       " 'Subject': 'Client Feedback',\n",
       " 'EmailContent': \"Hi Team. We’ve received the final feedback from the client. Let’s review it together and plan next steps. Let's meet on Thursday at 10 PM.\"}"
      ]
     },
     "execution_count": 12,
     "metadata": {},
     "output_type": "execute_result"
    }
   ],
   "source": [
    "input_request"
   ]
  },
  {
   "cell_type": "code",
   "execution_count": 13,
   "id": "50912b6f",
   "metadata": {},
   "outputs": [
    {
     "name": "stdout",
     "output_type": "stream",
     "text": [
      "Step 1 - Proposed time: {'duration': 30, 'start_time': '2025-07-24T22:00:00+05:30', 'end_time': '2025-07-24T22:30:00+05:30'}\n",
      "attendee events:  {'userone.amd@gmail.com': [{'StartTime': '2025-07-23T18:00:00+05:30', 'EndTime': '2025-07-24T09:00:00+05:30', 'NumAttendees': 1, 'Attendees': ['SELF'], 'Summary': 'Off Hours'}, {'StartTime': '2025-07-24T09:00:00+05:30', 'EndTime': '2025-07-24T09:30:00+05:30', 'NumAttendees': 3, 'Attendees': ['userone.amd@gmail.com', 'usertwo.amd@gmail.com', 'userthree.amd@gmail.com'], 'Summary': 'Agentic AI Project Status Update'}, {'StartTime': '2025-07-24T18:00:00+05:30', 'EndTime': '2025-07-25T09:00:00+05:30', 'NumAttendees': 1, 'Attendees': ['SELF'], 'Summary': 'Off Hours'}], 'usertwo.amd@gmail.com': [{'StartTime': '2025-07-23T18:00:00+05:30', 'EndTime': '2025-07-24T09:00:00+05:30', 'NumAttendees': 1, 'Attendees': ['SELF'], 'Summary': 'Off Hours'}, {'StartTime': '2025-07-24T18:00:00+05:30', 'EndTime': '2025-07-25T09:00:00+05:30', 'NumAttendees': 1, 'Attendees': ['SELF'], 'Summary': 'Off Hours'}], 'userthree.amd@gmail.com': [{'StartTime': '2025-07-23T16:00:00+05:30', 'EndTime': '2025-07-24T07:30:00+05:30', 'NumAttendees': 1, 'Attendees': ['SELF'], 'Summary': 'Off Hours'}, {'StartTime': '2025-07-24T16:00:00+05:30', 'EndTime': '2025-07-25T07:30:00+05:30', 'NumAttendees': 1, 'Attendees': ['SELF'], 'Summary': 'Off Hours'}]}\n",
      "Step 2 - No conflicts found, using proposed time\n"
     ]
    }
   ],
   "source": [
    "results = intelligent_meeting_scheduler(input_request)\n"
   ]
  },
  {
   "cell_type": "code",
   "execution_count": 15,
   "id": "f295363d",
   "metadata": {},
   "outputs": [
    {
     "data": {
      "text/plain": [
       "{'final_start_time': '2025-07-24T22:00:00+05:30',\n",
       " 'final_end_time': '2025-07-24T22:30:00+05:30',\n",
       " 'conflict_start_time': None,\n",
       " 'conflict_end_time': None}"
      ]
     },
     "execution_count": 15,
     "metadata": {},
     "output_type": "execute_result"
    }
   ],
   "source": [
    "results['decision']"
   ]
  },
  {
   "cell_type": "code",
   "execution_count": null,
   "id": "d23b6fe0",
   "metadata": {},
   "outputs": [],
   "source": []
  }
 ],
 "metadata": {
  "kernelspec": {
   "display_name": "Python 3 (ipykernel)",
   "language": "python",
   "name": "python3"
  },
  "language_info": {
   "codemirror_mode": {
    "name": "ipython",
    "version": 3
   },
   "file_extension": ".py",
   "mimetype": "text/x-python",
   "name": "python",
   "nbconvert_exporter": "python",
   "pygments_lexer": "ipython3",
   "version": "3.12.10"
  }
 },
 "nbformat": 4,
 "nbformat_minor": 5
}
