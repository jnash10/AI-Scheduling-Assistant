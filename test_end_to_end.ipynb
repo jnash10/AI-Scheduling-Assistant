{
 "cells": [
  {
   "cell_type": "code",
   "execution_count": 7,
   "id": "61361e58",
   "metadata": {},
   "outputs": [],
   "source": [
    "from propose_time import intelligent_meeting_scheduler"
   ]
  },
  {
   "cell_type": "code",
   "execution_count": 8,
   "id": "e662aebe",
   "metadata": {},
   "outputs": [],
   "source": [
    "import json\n",
    "\n",
    "input_request = json.loads(\"\"\"{\n",
    "    \"Request_id\": \"6118b54f-907b-4451-8d48-dd13d76033d5\",\n",
    "    \"Datetime\": \"19-07-2025T12:34:55\",\n",
    "    \"Location\": \"IISc Bangalore\",\n",
    "    \"From\": \"userone.amd@gmail.com\",\n",
    "    \"Attendees\": [\n",
    "        {\n",
    "            \"email\": \"usertwo.amd@gmail.com\"\n",
    "        },\n",
    "        {\n",
    "            \"email\": \"userthree.amd@gmail.com\"\n",
    "        }\n",
    "    ],\n",
    "    \"Subject\": \"Client Feedback\",\n",
    "    \"EmailContent\": \"Hi Team. We’ve received the final feedback from the client. Let’s review it together and plan next steps. Let's meet on Monday at 10 AM.\"\n",
    "}\"\"\")"
   ]
  },
  {
   "cell_type": "code",
   "execution_count": 9,
   "id": "6bc59c9c",
   "metadata": {},
   "outputs": [
    {
     "data": {
      "text/plain": [
       "{'Request_id': '6118b54f-907b-4451-8d48-dd13d76033d5',\n",
       " 'Datetime': '19-07-2025T12:34:55',\n",
       " 'Location': 'IISc Bangalore',\n",
       " 'From': 'userone.amd@gmail.com',\n",
       " 'Attendees': [{'email': 'usertwo.amd@gmail.com'},\n",
       "  {'email': 'userthree.amd@gmail.com'}],\n",
       " 'Subject': 'Client Feedback',\n",
       " 'EmailContent': \"Hi Team. We’ve received the final feedback from the client. Let’s review it together and plan next steps. Let's meet on Monday at 10 AM.\"}"
      ]
     },
     "execution_count": 9,
     "metadata": {},
     "output_type": "execute_result"
    }
   ],
   "source": [
    "input_request"
   ]
  },
  {
   "cell_type": "code",
   "execution_count": 10,
   "id": "50912b6f",
   "metadata": {},
   "outputs": [
    {
     "name": "stderr",
     "output_type": "stream",
     "text": [
      "INFO:httpx:HTTP Request: POST http://localhost:4000/v1/chat/completions \"HTTP/1.1 200 OK\"\n",
      "INFO:time_profiler:Function 'extract_time_window' executed in 2.1625 s\n",
      "INFO:googleapiclient.discovery_cache:file_cache is only supported with oauth2client<4.0.0\n",
      "INFO:googleapiclient.discovery_cache:file_cache is only supported with oauth2client<4.0.0\n",
      "INFO:googleapiclient.discovery_cache:file_cache is only supported with oauth2client<4.0.0\n"
     ]
    },
    {
     "name": "stdout",
     "output_type": "stream",
     "text": [
      "Step 1 - Proposed time: {'duration': 30, 'start_time': '2025-07-21T10:00:00+05:30', 'end_time': '2025-07-21T10:30:00+05:30'}\n"
     ]
    },
    {
     "name": "stderr",
     "output_type": "stream",
     "text": [
      "INFO:time_profiler:Function 'get_attendee_events_2_days' executed in 0.4257 s\n",
      "INFO:time_profiler:Function 'get_attendee_events_2_days' executed in 0.4280 s\n",
      "INFO:time_profiler:Function 'get_attendee_events_2_days' executed in 0.4830 s\n",
      "INFO:time_profiler:Function 'get_all_attendee_events_2_days_parallel' executed in 0.4859 s\n"
     ]
    },
    {
     "name": "stdout",
     "output_type": "stream",
     "text": [
      "attendee events:  {'usertwo.amd@gmail.com': [{'StartTime': '2025-07-20T18:00:00+05:30', 'EndTime': '2025-07-21T09:00:00+05:30', 'NumAttendees': 1, 'Attendees': ['SELF'], 'Summary': 'Off Hours'}, {'StartTime': '2025-07-21T18:00:00+05:30', 'EndTime': '2025-07-22T09:00:00+05:30', 'NumAttendees': 1, 'Attendees': ['SELF'], 'Summary': 'Off Hours'}], 'userone.amd@gmail.com': [{'StartTime': '2025-07-20T18:00:00+05:30', 'EndTime': '2025-07-21T09:00:00+05:30', 'NumAttendees': 1, 'Attendees': ['SELF'], 'Summary': 'Off Hours'}, {'StartTime': '2025-07-21T07:30:00+05:30', 'EndTime': '2025-07-21T08:00:00+05:30', 'NumAttendees': 4, 'Attendees': ['userthree.amd@gmail.com', 'userone.amd@gmail.com', 'usertwo.amd@gmail.com', 'team@amd.com'], 'Summary': 'Client Validation - Urgent'}, {'StartTime': '2025-07-21T10:00:00+05:30', 'EndTime': '2025-07-21T10:30:00+05:30', 'NumAttendees': 4, 'Attendees': ['userthree.amd@gmail.com', 'userone.amd@gmail.com', 'usertwo.amd@gmail.com', 'team@amd.com'], 'Summary': 'Agentic AI Project Status Update'}, {'StartTime': '2025-07-21T10:30:00+05:30', 'EndTime': '2025-07-21T11:00:00+05:30', 'NumAttendees': 4, 'Attendees': ['userthree.amd@gmail.com', 'userone.amd@gmail.com', 'usertwo.amd@gmail.com', 'team@amd.com'], 'Summary': 'Agentic AI Project Status Update'}, {'StartTime': '2025-07-21T18:00:00+05:30', 'EndTime': '2025-07-22T09:00:00+05:30', 'NumAttendees': 1, 'Attendees': ['SELF'], 'Summary': 'Off Hours'}], 'userthree.amd@gmail.com': [{'StartTime': '2025-07-20T16:00:00+05:30', 'EndTime': '2025-07-21T07:30:00+05:30', 'NumAttendees': 1, 'Attendees': ['SELF'], 'Summary': 'Off Hours'}, {'StartTime': '2025-07-21T07:30:00+05:30', 'EndTime': '2025-07-21T08:00:00+05:30', 'NumAttendees': 4, 'Attendees': ['userthree.amd@gmail.com', 'userone.amd@gmail.com', 'team@amd.com', 'usertwo.amd@gmail.com'], 'Summary': 'Client Validation - Urgent'}, {'StartTime': '2025-07-21T09:00:00+05:30', 'EndTime': '2025-07-21T10:00:00+05:30', 'NumAttendees': 1, 'Attendees': ['SELF'], 'Summary': '1v1 with Team Member'}, {'StartTime': '2025-07-21T10:00:00+05:30', 'EndTime': '2025-07-21T10:30:00+05:30', 'NumAttendees': 4, 'Attendees': ['userthree.amd@gmail.com', 'userone.amd@gmail.com', 'team@amd.com', 'usertwo.amd@gmail.com'], 'Summary': 'Agentic AI Project Status Update'}, {'StartTime': '2025-07-21T10:30:00+05:30', 'EndTime': '2025-07-21T11:00:00+05:30', 'NumAttendees': 4, 'Attendees': ['userthree.amd@gmail.com', 'userone.amd@gmail.com', 'team@amd.com', 'usertwo.amd@gmail.com'], 'Summary': 'Agentic AI Project Status Update'}, {'StartTime': '2025-07-21T16:00:00+05:30', 'EndTime': '2025-07-22T07:30:00+05:30', 'NumAttendees': 1, 'Attendees': ['SELF'], 'Summary': 'Off Hours'}]}\n",
      "Step 2 - Conflicts found: 2 meetings\n",
      "free slots:  [('2025-07-21T11:00:00+05:30', '2025-07-21T11:30:00+05:30'), ('2025-07-21T11:30:00+05:30', '2025-07-21T12:00:00+05:30'), ('2025-07-21T12:00:00+05:30', '2025-07-21T12:30:00+05:30'), ('2025-07-21T12:30:00+05:30', '2025-07-21T13:00:00+05:30'), ('2025-07-21T13:00:00+05:30', '2025-07-21T13:30:00+05:30')]\n",
      "Step 3 - Found 5 free slots\n"
     ]
    },
    {
     "name": "stderr",
     "output_type": "stream",
     "text": [
      "INFO:httpx:HTTP Request: POST http://localhost:4000/v1/chat/completions \"HTTP/1.1 200 OK\"\n"
     ]
    },
    {
     "name": "stdout",
     "output_type": "stream",
     "text": [
      "Step 4 - LLM decision: Conflicting meeting is not rescheduled as proposed meeting is of equal importance and conflicting meeting has same attendees\n"
     ]
    }
   ],
   "source": [
    "results = intelligent_meeting_scheduler(input_request)\n"
   ]
  },
  {
   "cell_type": "code",
   "execution_count": 11,
   "id": "f295363d",
   "metadata": {},
   "outputs": [
    {
     "data": {
      "text/plain": [
       "{'proposed_final_start': '2025-07-21T11:00:00+05:30',\n",
       " 'proposed_final_end': '2025-07-21T11:30:00+05:30',\n",
       " 'conflicting_final_start': '2025-07-21T10:00:00+05:30',\n",
       " 'conflicting_final_end': '2025-07-21T10:30:00+05:30',\n",
       " 'decision_reason': 'Conflicting meeting is not rescheduled as proposed meeting is of equal importance and conflicting meeting has same attendees'}"
      ]
     },
     "execution_count": 11,
     "metadata": {},
     "output_type": "execute_result"
    }
   ],
   "source": [
    "results['decision']"
   ]
  },
  {
   "cell_type": "code",
   "execution_count": null,
   "id": "d23b6fe0",
   "metadata": {},
   "outputs": [],
   "source": []
  },
  {
   "cell_type": "code",
   "execution_count": null,
   "id": "e77262fd",
   "metadata": {},
   "outputs": [],
   "source": []
  }
 ],
 "metadata": {
  "kernelspec": {
   "display_name": "Python 3 (ipykernel)",
   "language": "python",
   "name": "python3"
  },
  "language_info": {
   "codemirror_mode": {
    "name": "ipython",
    "version": 3
   },
   "file_extension": ".py",
   "mimetype": "text/x-python",
   "name": "python",
   "nbconvert_exporter": "python",
   "pygments_lexer": "ipython3",
   "version": "3.12.10"
  }
 },
 "nbformat": 4,
 "nbformat_minor": 5
}
